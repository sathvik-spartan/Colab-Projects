{
  "metadata": {
    "kernelspec": {
      "language": "python",
      "display_name": "Python 3",
      "name": "python3"
    },
    "language_info": {
      "name": "python",
      "version": "3.10.13",
      "mimetype": "text/x-python",
      "codemirror_mode": {
        "name": "ipython",
        "version": 3
      },
      "pygments_lexer": "ipython3",
      "nbconvert_exporter": "python",
      "file_extension": ".py"
    },
    "kaggle": {
      "accelerator": "nvidiaTeslaT4",
      "dataSources": [
        {
          "sourceId": 1874890,
          "sourceType": "datasetVersion",
          "datasetId": 1116138
        }
      ],
      "dockerImageVersionId": 30732,
      "isInternetEnabled": false,
      "language": "python",
      "sourceType": "notebook",
      "isGpuEnabled": true
    },
    "colab": {
      "name": "notebook52086743e2",
      "provenance": []
    },
    "widgets": {
      "application/vnd.jupyter.widget-state+json": {
        "7c130f07631641d0a81834f23fdbbd89": {
          "model_module": "@jupyter-widgets/controls",
          "model_name": "HBoxModel",
          "model_module_version": "1.5.0",
          "state": {
            "_dom_classes": [],
            "_model_module": "@jupyter-widgets/controls",
            "_model_module_version": "1.5.0",
            "_model_name": "HBoxModel",
            "_view_count": null,
            "_view_module": "@jupyter-widgets/controls",
            "_view_module_version": "1.5.0",
            "_view_name": "HBoxView",
            "box_style": "",
            "children": [
              "IPY_MODEL_7d3a91a3a6d945519e089c2b5e7a1d0f",
              "IPY_MODEL_f5eea42efbe34a24a173057374d8e94b",
              "IPY_MODEL_9aa01654411a47a39e34852a5f3f4295"
            ],
            "layout": "IPY_MODEL_e576ae593c084056bebe0421fd79acdb"
          }
        },
        "7d3a91a3a6d945519e089c2b5e7a1d0f": {
          "model_module": "@jupyter-widgets/controls",
          "model_name": "HTMLModel",
          "model_module_version": "1.5.0",
          "state": {
            "_dom_classes": [],
            "_model_module": "@jupyter-widgets/controls",
            "_model_module_version": "1.5.0",
            "_model_name": "HTMLModel",
            "_view_count": null,
            "_view_module": "@jupyter-widgets/controls",
            "_view_module_version": "1.5.0",
            "_view_name": "HTMLView",
            "description": "",
            "description_tooltip": null,
            "layout": "IPY_MODEL_28ae3c3105d547b195ff0443a06588ef",
            "placeholder": "​",
            "style": "IPY_MODEL_2f548302e3e144d3a996f70a42c16ea7",
            "value": "Training:   0%"
          }
        },
        "f5eea42efbe34a24a173057374d8e94b": {
          "model_module": "@jupyter-widgets/controls",
          "model_name": "FloatProgressModel",
          "model_module_version": "1.5.0",
          "state": {
            "_dom_classes": [],
            "_model_module": "@jupyter-widgets/controls",
            "_model_module_version": "1.5.0",
            "_model_name": "FloatProgressModel",
            "_view_count": null,
            "_view_module": "@jupyter-widgets/controls",
            "_view_module_version": "1.5.0",
            "_view_name": "ProgressView",
            "bar_style": "",
            "description": "",
            "description_tooltip": null,
            "layout": "IPY_MODEL_eeaff09519dd4cf1844472601eded3e7",
            "max": 875,
            "min": 0,
            "orientation": "horizontal",
            "style": "IPY_MODEL_e50048b034c941a695e12c9663aba433",
            "value": 0
          }
        },
        "9aa01654411a47a39e34852a5f3f4295": {
          "model_module": "@jupyter-widgets/controls",
          "model_name": "HTMLModel",
          "model_module_version": "1.5.0",
          "state": {
            "_dom_classes": [],
            "_model_module": "@jupyter-widgets/controls",
            "_model_module_version": "1.5.0",
            "_model_name": "HTMLModel",
            "_view_count": null,
            "_view_module": "@jupyter-widgets/controls",
            "_view_module_version": "1.5.0",
            "_view_name": "HTMLView",
            "description": "",
            "description_tooltip": null,
            "layout": "IPY_MODEL_7170f2a54fb943299881d2c8372f4d23",
            "placeholder": "​",
            "style": "IPY_MODEL_2d0c88087c554b88846701af09857ce8",
            "value": " 0/875 [00:00&lt;?, ?it/s]"
          }
        },
        "e576ae593c084056bebe0421fd79acdb": {
          "model_module": "@jupyter-widgets/base",
          "model_name": "LayoutModel",
          "model_module_version": "1.2.0",
          "state": {
            "_model_module": "@jupyter-widgets/base",
            "_model_module_version": "1.2.0",
            "_model_name": "LayoutModel",
            "_view_count": null,
            "_view_module": "@jupyter-widgets/base",
            "_view_module_version": "1.2.0",
            "_view_name": "LayoutView",
            "align_content": null,
            "align_items": null,
            "align_self": null,
            "border": null,
            "bottom": null,
            "display": null,
            "flex": null,
            "flex_flow": null,
            "grid_area": null,
            "grid_auto_columns": null,
            "grid_auto_flow": null,
            "grid_auto_rows": null,
            "grid_column": null,
            "grid_gap": null,
            "grid_row": null,
            "grid_template_areas": null,
            "grid_template_columns": null,
            "grid_template_rows": null,
            "height": null,
            "justify_content": null,
            "justify_items": null,
            "left": null,
            "margin": null,
            "max_height": null,
            "max_width": null,
            "min_height": null,
            "min_width": null,
            "object_fit": null,
            "object_position": null,
            "order": null,
            "overflow": null,
            "overflow_x": null,
            "overflow_y": null,
            "padding": null,
            "right": null,
            "top": null,
            "visibility": null,
            "width": null
          }
        },
        "28ae3c3105d547b195ff0443a06588ef": {
          "model_module": "@jupyter-widgets/base",
          "model_name": "LayoutModel",
          "model_module_version": "1.2.0",
          "state": {
            "_model_module": "@jupyter-widgets/base",
            "_model_module_version": "1.2.0",
            "_model_name": "LayoutModel",
            "_view_count": null,
            "_view_module": "@jupyter-widgets/base",
            "_view_module_version": "1.2.0",
            "_view_name": "LayoutView",
            "align_content": null,
            "align_items": null,
            "align_self": null,
            "border": null,
            "bottom": null,
            "display": null,
            "flex": null,
            "flex_flow": null,
            "grid_area": null,
            "grid_auto_columns": null,
            "grid_auto_flow": null,
            "grid_auto_rows": null,
            "grid_column": null,
            "grid_gap": null,
            "grid_row": null,
            "grid_template_areas": null,
            "grid_template_columns": null,
            "grid_template_rows": null,
            "height": null,
            "justify_content": null,
            "justify_items": null,
            "left": null,
            "margin": null,
            "max_height": null,
            "max_width": null,
            "min_height": null,
            "min_width": null,
            "object_fit": null,
            "object_position": null,
            "order": null,
            "overflow": null,
            "overflow_x": null,
            "overflow_y": null,
            "padding": null,
            "right": null,
            "top": null,
            "visibility": null,
            "width": null
          }
        },
        "2f548302e3e144d3a996f70a42c16ea7": {
          "model_module": "@jupyter-widgets/controls",
          "model_name": "DescriptionStyleModel",
          "model_module_version": "1.5.0",
          "state": {
            "_model_module": "@jupyter-widgets/controls",
            "_model_module_version": "1.5.0",
            "_model_name": "DescriptionStyleModel",
            "_view_count": null,
            "_view_module": "@jupyter-widgets/base",
            "_view_module_version": "1.2.0",
            "_view_name": "StyleView",
            "description_width": ""
          }
        },
        "eeaff09519dd4cf1844472601eded3e7": {
          "model_module": "@jupyter-widgets/base",
          "model_name": "LayoutModel",
          "model_module_version": "1.2.0",
          "state": {
            "_model_module": "@jupyter-widgets/base",
            "_model_module_version": "1.2.0",
            "_model_name": "LayoutModel",
            "_view_count": null,
            "_view_module": "@jupyter-widgets/base",
            "_view_module_version": "1.2.0",
            "_view_name": "LayoutView",
            "align_content": null,
            "align_items": null,
            "align_self": null,
            "border": null,
            "bottom": null,
            "display": null,
            "flex": null,
            "flex_flow": null,
            "grid_area": null,
            "grid_auto_columns": null,
            "grid_auto_flow": null,
            "grid_auto_rows": null,
            "grid_column": null,
            "grid_gap": null,
            "grid_row": null,
            "grid_template_areas": null,
            "grid_template_columns": null,
            "grid_template_rows": null,
            "height": null,
            "justify_content": null,
            "justify_items": null,
            "left": null,
            "margin": null,
            "max_height": null,
            "max_width": null,
            "min_height": null,
            "min_width": null,
            "object_fit": null,
            "object_position": null,
            "order": null,
            "overflow": null,
            "overflow_x": null,
            "overflow_y": null,
            "padding": null,
            "right": null,
            "top": null,
            "visibility": null,
            "width": null
          }
        },
        "e50048b034c941a695e12c9663aba433": {
          "model_module": "@jupyter-widgets/controls",
          "model_name": "ProgressStyleModel",
          "model_module_version": "1.5.0",
          "state": {
            "_model_module": "@jupyter-widgets/controls",
            "_model_module_version": "1.5.0",
            "_model_name": "ProgressStyleModel",
            "_view_count": null,
            "_view_module": "@jupyter-widgets/base",
            "_view_module_version": "1.2.0",
            "_view_name": "StyleView",
            "bar_color": null,
            "description_width": ""
          }
        },
        "7170f2a54fb943299881d2c8372f4d23": {
          "model_module": "@jupyter-widgets/base",
          "model_name": "LayoutModel",
          "model_module_version": "1.2.0",
          "state": {
            "_model_module": "@jupyter-widgets/base",
            "_model_module_version": "1.2.0",
            "_model_name": "LayoutModel",
            "_view_count": null,
            "_view_module": "@jupyter-widgets/base",
            "_view_module_version": "1.2.0",
            "_view_name": "LayoutView",
            "align_content": null,
            "align_items": null,
            "align_self": null,
            "border": null,
            "bottom": null,
            "display": null,
            "flex": null,
            "flex_flow": null,
            "grid_area": null,
            "grid_auto_columns": null,
            "grid_auto_flow": null,
            "grid_auto_rows": null,
            "grid_column": null,
            "grid_gap": null,
            "grid_row": null,
            "grid_template_areas": null,
            "grid_template_columns": null,
            "grid_template_rows": null,
            "height": null,
            "justify_content": null,
            "justify_items": null,
            "left": null,
            "margin": null,
            "max_height": null,
            "max_width": null,
            "min_height": null,
            "min_width": null,
            "object_fit": null,
            "object_position": null,
            "order": null,
            "overflow": null,
            "overflow_x": null,
            "overflow_y": null,
            "padding": null,
            "right": null,
            "top": null,
            "visibility": null,
            "width": null
          }
        },
        "2d0c88087c554b88846701af09857ce8": {
          "model_module": "@jupyter-widgets/controls",
          "model_name": "DescriptionStyleModel",
          "model_module_version": "1.5.0",
          "state": {
            "_model_module": "@jupyter-widgets/controls",
            "_model_module_version": "1.5.0",
            "_model_name": "DescriptionStyleModel",
            "_view_count": null,
            "_view_module": "@jupyter-widgets/base",
            "_view_module_version": "1.2.0",
            "_view_name": "StyleView",
            "description_width": ""
          }
        }
      }
    }
  },
  "nbformat_minor": 0,
  "nbformat": 4,
  "cells": [
    {
      "cell_type": "code",
      "source": [
        "import torch\n",
        "from torch.utils.data import Dataset, DataLoader, TensorDataset, RandomSampler, SequentialSampler\n",
        "from transformers import BertTokenizer, BertForSequenceClassification, AdamW, get_linear_schedule_with_warmup\n",
        "from sklearn.model_selection import train_test_split\n",
        "from sklearn.preprocessing import LabelEncoder\n",
        "import numpy as np\n",
        "import pandas as pd\n",
        "from tqdm.notebook import tqdm"
      ],
      "metadata": {
        "execution": {
          "iopub.status.busy": "2024-10-21T04:38:26.667515Z",
          "iopub.execute_input": "2024-10-21T04:38:26.667928Z",
          "iopub.status.idle": "2024-10-21T04:38:26.674658Z",
          "shell.execute_reply.started": "2024-10-21T04:38:26.667896Z",
          "shell.execute_reply": "2024-10-21T04:38:26.673314Z"
        },
        "trusted": true,
        "id": "y5znRDAFatLh"
      },
      "outputs": [],
      "execution_count": 5
    },
    {
      "cell_type": "code",
      "source": [
        "df = pd.read_csv(\n",
        "    '/content/tweet_emotions.csv',\n",
        "    usecols=['content', 'sentiment'],\n",
        "    dtype={'content': 'string', 'sentiment': 'category'}\n",
        ")"
      ],
      "metadata": {
        "execution": {
          "iopub.status.busy": "2024-10-21T04:37:47.612919Z",
          "iopub.status.idle": "2024-10-21T04:37:47.790169Z",
          "shell.execute_reply.started": "2024-10-21T04:37:47.613431Z",
          "shell.execute_reply": "2024-10-21T04:37:47.789013Z"
        },
        "trusted": true,
        "id": "Bgetq04EatLh"
      },
      "outputs": [],
      "execution_count": 6
    },
    {
      "cell_type": "code",
      "source": [
        "df = df.rename(columns={'content': 'tweet', 'sentiment': 'label'})\n",
        "#labels = ['neutral', 'sadness', 'happiness']\n",
        "#df = df.query('label in @labels')"
      ],
      "metadata": {
        "execution": {
          "iopub.status.busy": "2024-10-21T04:37:47.791712Z",
          "iopub.execute_input": "2024-10-21T04:37:47.792141Z",
          "iopub.status.idle": "2024-10-21T04:37:47.800959Z",
          "shell.execute_reply.started": "2024-10-21T04:37:47.792105Z",
          "shell.execute_reply": "2024-10-21T04:37:47.799673Z"
        },
        "trusted": true,
        "id": "P8BHjOtaatLi"
      },
      "outputs": [],
      "execution_count": 7
    },
    {
      "cell_type": "code",
      "source": [
        "#df['label'] = df['label'].replace('sadness', 'negative')\n",
        "#df['label'] = df['label'].replace('happiness', 'positive')\n",
        "#data = df.dropna().reset_index(drop=True)"
      ],
      "metadata": {
        "execution": {
          "iopub.status.busy": "2024-10-21T04:37:47.803727Z",
          "iopub.execute_input": "2024-10-21T04:37:47.804229Z",
          "iopub.status.idle": "2024-10-21T04:37:47.811952Z",
          "shell.execute_reply.started": "2024-10-21T04:37:47.804195Z",
          "shell.execute_reply": "2024-10-21T04:37:47.810591Z"
        },
        "trusted": true,
        "id": "uQub5EH_atLi"
      },
      "outputs": [],
      "execution_count": 8
    },
    {
      "cell_type": "code",
      "source": [
        "#data_pos = data.query('label == \"positive\"')[:5000]\n",
        "#data_neu = data.query('label == \"neutral\"')[:5000]\n",
        "#data_neg = data.query('label == \"negative\"')[:5000]\n",
        "\n",
        "data_final = df #.concat([data_pos, data_neu, data_neg])"
      ],
      "metadata": {
        "execution": {
          "iopub.status.busy": "2024-10-21T04:37:47.813427Z",
          "iopub.execute_input": "2024-10-21T04:37:47.813813Z",
          "iopub.status.idle": "2024-10-21T04:37:47.824404Z",
          "shell.execute_reply.started": "2024-10-21T04:37:47.813782Z",
          "shell.execute_reply": "2024-10-21T04:37:47.823141Z"
        },
        "trusted": true,
        "id": "CcWhOVHratLj"
      },
      "outputs": [],
      "execution_count": 9
    },
    {
      "cell_type": "code",
      "source": [
        "# Encode labels\n",
        "label_encoder = LabelEncoder()\n",
        "data_final['label_enc'] = label_encoder.fit_transform(data_final['label'])\n",
        "\n",
        "data_final.rename(columns={'label':'label_desc'},inplace=True)\n",
        "data_final.rename(columns={'label_enc':'label'},inplace=True)"
      ],
      "metadata": {
        "trusted": true,
        "id": "3Y3dq34MatLj"
      },
      "outputs": [],
      "execution_count": 10
    },
    {
      "cell_type": "code",
      "source": [
        "label_map = {}\n",
        "for index, row in data_final[['label_desc', 'label']].drop_duplicates(keep='first').iterrows():\n",
        "    label_map[row['label']] = row['label_desc']\n",
        "label_map"
      ],
      "metadata": {
        "trusted": true,
        "colab": {
          "base_uri": "https://localhost:8080/"
        },
        "id": "5c2PHzzcatLj",
        "outputId": "ba0505ce-cca4-453c-9ac1-f4312d941f97"
      },
      "outputs": [
        {
          "output_type": "execute_result",
          "data": {
            "text/plain": [
              "{2: 'empty',\n",
              " 10: 'sadness',\n",
              " 3: 'enthusiasm',\n",
              " 8: 'neutral',\n",
              " 12: 'worry',\n",
              " 11: 'surprise',\n",
              " 7: 'love',\n",
              " 4: 'fun',\n",
              " 6: 'hate',\n",
              " 5: 'happiness',\n",
              " 1: 'boredom',\n",
              " 9: 'relief',\n",
              " 0: 'anger'}"
            ]
          },
          "metadata": {},
          "execution_count": 11
        }
      ],
      "execution_count": 11
    },
    {
      "cell_type": "code",
      "source": [
        "# Split data\n",
        "X = data_final['tweet']\n",
        "y = data_final['label']\n",
        "\n",
        "X_train, X_test, y_train, y_test = train_test_split(X, y, test_size=0.3, random_state=42)\n",
        "X_train = X_train.reset_index(drop=True)\n",
        "X_test = X_test.reset_index(drop=True)\n",
        "y_train = y_train.reset_index(drop=True)\n",
        "y_test = y_test.reset_index(drop=True)"
      ],
      "metadata": {
        "trusted": true,
        "id": "ODKsN2UDatLj"
      },
      "outputs": [],
      "execution_count": 12
    },
    {
      "cell_type": "code",
      "source": [
        "device = torch.device(\"cuda\" if torch.cuda.is_available() else \"cpu\")"
      ],
      "metadata": {
        "trusted": true,
        "id": "Nn5SWv2EatLj"
      },
      "outputs": [],
      "execution_count": 13
    },
    {
      "cell_type": "code",
      "source": [
        "# Initialize BERT tokenizer and model\n",
        "tokenizer = BertTokenizer.from_pretrained('bert-base-uncased')\n",
        "model = BertForSequenceClassification.from_pretrained(\"bert-base-uncased\", num_labels=len(label_encoder.classes_)).to(device)\n",
        "\n",
        "# Optimizer and learning rate scheduler\n",
        "optimizer = AdamW(model.parameters(), lr=2e-5, eps=1e-8)\n",
        "epochs = 3"
      ],
      "metadata": {
        "trusted": true,
        "colab": {
          "base_uri": "https://localhost:8080/"
        },
        "id": "e_ItzSCLatLj",
        "outputId": "75012680-997e-40e9-ee21-e2ab7975ce6f"
      },
      "outputs": [
        {
          "output_type": "stream",
          "name": "stderr",
          "text": [
            "/usr/local/lib/python3.10/dist-packages/huggingface_hub/utils/_token.py:89: UserWarning: \n",
            "The secret `HF_TOKEN` does not exist in your Colab secrets.\n",
            "To authenticate with the Hugging Face Hub, create a token in your settings tab (https://huggingface.co/settings/tokens), set it as secret in your Google Colab and restart your session.\n",
            "You will be able to reuse this secret in all of your notebooks.\n",
            "Please note that authentication is recommended but still optional to access public models or datasets.\n",
            "  warnings.warn(\n",
            "/usr/local/lib/python3.10/dist-packages/transformers/tokenization_utils_base.py:1601: FutureWarning: `clean_up_tokenization_spaces` was not set. It will be set to `True` by default. This behavior will be depracted in transformers v4.45, and will be then set to `False` by default. For more details check this issue: https://github.com/huggingface/transformers/issues/31884\n",
            "  warnings.warn(\n",
            "Some weights of BertForSequenceClassification were not initialized from the model checkpoint at bert-base-uncased and are newly initialized: ['classifier.bias', 'classifier.weight']\n",
            "You should probably TRAIN this model on a down-stream task to be able to use it for predictions and inference.\n",
            "/usr/local/lib/python3.10/dist-packages/transformers/optimization.py:591: FutureWarning: This implementation of AdamW is deprecated and will be removed in a future version. Use the PyTorch implementation torch.optim.AdamW instead, or set `no_deprecation_warning=True` to disable this warning\n",
            "  warnings.warn(\n"
          ]
        }
      ],
      "execution_count": 14
    },
    {
      "cell_type": "code",
      "source": [
        "train_inputs = [tokenizer.encode(sent, add_special_tokens=True, max_length=256, pad_to_max_length=True) for sent in X_train]\n",
        "test_inputs = [tokenizer.encode(sent, add_special_tokens=True, max_length=256, pad_to_max_length=True) for sent in X_test]\n",
        "\n",
        "# Create attention masks\n",
        "train_masks = [[float(i > 0) for i in seq] for seq in train_inputs]\n",
        "test_masks = [[float(i > 0) for i in seq] for seq in test_inputs]\n",
        "\n",
        "# Convert all data into torch tensors\n",
        "train_inputs = torch.tensor(train_inputs)\n",
        "train_masks = torch.tensor(train_masks)\n",
        "train_labels = torch.tensor(y_train.values)\n",
        "\n",
        "test_inputs = torch.tensor(test_inputs)\n",
        "test_masks = torch.tensor(test_masks)\n",
        "test_labels = torch.tensor(y_test.values)"
      ],
      "metadata": {
        "trusted": true,
        "colab": {
          "base_uri": "https://localhost:8080/"
        },
        "id": "NLAyjIePatLj",
        "outputId": "f16dd768-d4dd-40e2-dc2a-ad2714179c52"
      },
      "outputs": [
        {
          "output_type": "stream",
          "name": "stderr",
          "text": [
            "Truncation was not explicitly activated but `max_length` is provided a specific value, please use `truncation=True` to explicitly truncate examples to max length. Defaulting to 'longest_first' truncation strategy. If you encode pairs of sequences (GLUE-style) with the tokenizer you can select this strategy more precisely by providing a specific strategy to `truncation`.\n",
            "/usr/local/lib/python3.10/dist-packages/transformers/tokenization_utils_base.py:2870: FutureWarning: The `pad_to_max_length` argument is deprecated and will be removed in a future version, use `padding=True` or `padding='longest'` to pad to the longest sequence in the batch, or use `padding='max_length'` to pad to a max length. In this case, you can give a specific length with `max_length` (e.g. `max_length=45`) or leave max_length to None to pad to the maximal input size of the model (e.g. 512 for Bert).\n",
            "  warnings.warn(\n"
          ]
        }
      ],
      "execution_count": 15
    },
    {
      "cell_type": "code",
      "source": [
        "batch_size = 32\n",
        "\n",
        "# Create DataLoader for training set\n",
        "train_data = TensorDataset(train_inputs, train_masks, train_labels)\n",
        "train_sampler = RandomSampler(train_data)\n",
        "train_dataloader = DataLoader(train_data, sampler=train_sampler, batch_size=batch_size)\n",
        "\n",
        "# Create DataLoader for test set\n",
        "test_data = TensorDataset(test_inputs, test_masks, test_labels)\n",
        "test_sampler = SequentialSampler(test_data)\n",
        "test_dataloader = DataLoader(test_data, sampler=test_sampler, batch_size=batch_size)"
      ],
      "metadata": {
        "trusted": true,
        "id": "yzA5okvsatLk"
      },
      "outputs": [],
      "execution_count": 16
    },
    {
      "cell_type": "code",
      "source": [
        "total_steps = len(train_dataloader) * epochs\n",
        "scheduler = get_linear_schedule_with_warmup(optimizer, num_warmup_steps=0, num_training_steps=total_steps)"
      ],
      "metadata": {
        "trusted": true,
        "id": "671Q6mDKatLk"
      },
      "outputs": [],
      "execution_count": 17
    },
    {
      "cell_type": "code",
      "source": [
        "# Training loop\n",
        "for epoch in range(epochs):\n",
        "    print(f\"Epoch {epoch + 1}/{epochs}\")\n",
        "    model.train()\n",
        "\n",
        "    total_loss = 0\n",
        "    train_accuracy = 0\n",
        "    for step, batch in enumerate(tqdm(train_dataloader, desc=\"Training\")):\n",
        "        batch_input_ids, batch_input_mask, batch_labels = batch\n",
        "        batch_input_ids = batch_input_ids.to(device)\n",
        "        batch_input_mask = batch_input_mask.to(device)\n",
        "        batch_labels = batch_labels.to(device)\n",
        "\n",
        "        model.zero_grad()\n",
        "\n",
        "        outputs = model(batch_input_ids, token_type_ids=None, attention_mask=batch_input_mask, labels=batch_labels)\n",
        "        loss = outputs.loss\n",
        "        logits = outputs.logits\n",
        "\n",
        "        total_loss += loss.item()\n",
        "        loss.backward()\n",
        "\n",
        "        torch.nn.utils.clip_grad_norm_(model.parameters(), 1.0)\n",
        "        optimizer.step()\n",
        "        scheduler.step()\n",
        "\n",
        "        preds = torch.argmax(logits, dim=1)\n",
        "        train_accuracy += (preds == batch_labels).sum().item() / len(batch_labels)\n",
        "\n",
        "    avg_train_loss = total_loss / len(train_dataloader)\n",
        "    avg_train_accuracy = train_accuracy / len(train_dataloader)\n",
        "    print(f\"Training loss: {avg_train_loss:.4f}\")\n",
        "    print(f\"Training accuracy: {avg_train_accuracy:.4f}\")\n",
        "\n",
        "    # Validation loop\n",
        "    model.eval()\n",
        "    val_accuracy = 0\n",
        "    for batch in tqdm(test_dataloader, desc=\"Validation\"):\n",
        "        batch_input_ids, batch_input_mask, batch_labels = batch\n",
        "        batch_input_ids = batch_input_ids.to(device)\n",
        "        batch_input_mask = batch_input_mask.to(device)\n",
        "        batch_labels = batch_labels.to(device)\n",
        "\n",
        "        with torch.no_grad():\n",
        "            outputs = model(batch_input_ids, token_type_ids=None, attention_mask=batch_input_mask, labels=batch_labels)\n",
        "\n",
        "        logits = outputs.logits\n",
        "        preds = torch.argmax(logits, dim=1)\n",
        "        val_accuracy += (preds == batch_labels).sum().item() / len(batch_labels)\n",
        "\n",
        "    avg_val_accuracy = val_accuracy / len(test_dataloader)\n",
        "    print(f\"Validation accuracy: {avg_val_accuracy:.4f}\")"
      ],
      "metadata": {
        "trusted": true,
        "colab": {
          "base_uri": "https://localhost:8080/",
          "height": 66,
          "referenced_widgets": [
            "7c130f07631641d0a81834f23fdbbd89",
            "7d3a91a3a6d945519e089c2b5e7a1d0f",
            "f5eea42efbe34a24a173057374d8e94b",
            "9aa01654411a47a39e34852a5f3f4295",
            "e576ae593c084056bebe0421fd79acdb",
            "28ae3c3105d547b195ff0443a06588ef",
            "2f548302e3e144d3a996f70a42c16ea7",
            "eeaff09519dd4cf1844472601eded3e7",
            "e50048b034c941a695e12c9663aba433",
            "7170f2a54fb943299881d2c8372f4d23",
            "2d0c88087c554b88846701af09857ce8"
          ]
        },
        "id": "uoalRZfzatLk",
        "outputId": "1c65f808-721d-4b1c-8b97-97398c317688"
      },
      "outputs": [
        {
          "output_type": "stream",
          "name": "stdout",
          "text": [
            "Epoch 1/3\n"
          ]
        },
        {
          "output_type": "display_data",
          "data": {
            "text/plain": [
              "Training:   0%|          | 0/875 [00:00<?, ?it/s]"
            ],
            "application/vnd.jupyter.widget-view+json": {
              "version_major": 2,
              "version_minor": 0,
              "model_id": "7c130f07631641d0a81834f23fdbbd89"
            }
          },
          "metadata": {}
        }
      ],
      "execution_count": null
    },
    {
      "cell_type": "code",
      "source": [
        "model.save_pretrained('./bert-emotion-classifier')\n",
        "tokenizer.save_pretrained('./bert-emotion-classifier')"
      ],
      "metadata": {
        "trusted": true,
        "id": "noP8gJcwatLk"
      },
      "outputs": [],
      "execution_count": null
    },
    {
      "cell_type": "code",
      "source": [
        "model_path = './bert-emotion-classifier'\n",
        "tokenizer = BertTokenizer.from_pretrained(model_path)\n",
        "model = BertForSequenceClassification.from_pretrained(model_path)\n",
        "model.to(device)\n",
        "model.eval()"
      ],
      "metadata": {
        "trusted": true,
        "id": "wxrdGfFvatLk"
      },
      "outputs": [],
      "execution_count": null
    },
    {
      "cell_type": "code",
      "source": [
        "def predict_emotion(text):\n",
        "    inputs = tokenizer.encode_plus(\n",
        "        text,\n",
        "        add_special_tokens=True,\n",
        "        max_length=128,\n",
        "        padding='max_length',\n",
        "        return_attention_mask=True,\n",
        "        return_tensors='pt',\n",
        "        truncation=True\n",
        "    )\n",
        "    input_ids = inputs['input_ids'].to(device)\n",
        "    attention_mask = inputs['attention_mask'].to(device)\n",
        "\n",
        "    with torch.no_grad():\n",
        "        outputs = model(input_ids, attention_mask=attention_mask)\n",
        "\n",
        "    logits = outputs.logits\n",
        "    predicted_class = torch.argmax(logits, dim=1).item()\n",
        "    return label_encoder.inverse_transform([predicted_class])[0]"
      ],
      "metadata": {
        "trusted": true,
        "id": "F25idP2zatLk"
      },
      "outputs": [],
      "execution_count": null
    },
    {
      "cell_type": "code",
      "source": [
        "example_indices = [0, 1, 2, 3, 4, 5, 6, 7, 8, 9]\n",
        "example_texts = X_test.iloc[example_indices].tolist()\n",
        "example_labels = y_test.iloc[example_indices].tolist()\n",
        "\n",
        "for text, true_label in zip(example_texts, example_labels):\n",
        "    predicted_label = predict_emotion(text)\n",
        "    print(f\"Text: {text}\")\n",
        "    print(f\"True Label: {label_map[true_label]}\")\n",
        "    print(f\"Predicted Label: {predicted_label}\\n\")"
      ],
      "metadata": {
        "trusted": true,
        "id": "PPmg-BBhatLk"
      },
      "outputs": [],
      "execution_count": null
    }
  ]
}